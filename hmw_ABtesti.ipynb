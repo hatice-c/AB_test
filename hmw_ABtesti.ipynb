{
 "cells": [
  {
   "cell_type": "code",
   "execution_count": 1,
   "metadata": {},
   "outputs": [],
   "source": [
    "import pandas as pd    \n",
    "import numpy as np\n",
    "import seaborn as sns\n",
    "import warnings\n",
    "warnings.filterwarnings(\"ignore\", category=DeprecationWarning) \n",
    "warnings.filterwarnings(\"ignore\", category=FutureWarning)\n",
    "\n"
   ]
  },
  {
   "cell_type": "code",
   "execution_count": 2,
   "metadata": {},
   "outputs": [],
   "source": [
    "df_A=pd.read_excel(\"Data_Science_Case_Study.xlsx\",sheet_name=\"Control Group\", ignore_index=True)\n",
    "df_yedekA=df_A.copy()"
   ]
  },
  {
   "cell_type": "code",
   "execution_count": 3,
   "metadata": {},
   "outputs": [],
   "source": [
    "df_B=pd.read_excel('Data_Science_Case_Study.xlsx', sheet_name=\"Test Group\", ignore_index=True)\n",
    "df_yedekB=df_B.copy()"
   ]
  },
  {
   "cell_type": "code",
   "execution_count": 4,
   "metadata": {},
   "outputs": [
    {
     "name": "stdout",
     "output_type": "stream",
     "text": [
      "<class 'pandas.core.frame.DataFrame'>\n",
      "RangeIndex: 32 entries, 0 to 31\n",
      "Data columns (total 10 columns):\n",
      " #   Column               Non-Null Count  Dtype  \n",
      "---  ------               --------------  -----  \n",
      " 0   Campaign Name        31 non-null     object \n",
      " 1   Date                 30 non-null     object \n",
      " 2   Spend [USD]          30 non-null     float64\n",
      " 3   # of Impressions     29 non-null     float64\n",
      " 4   Reach                29 non-null     float64\n",
      " 5   # of Website Clicks  29 non-null     float64\n",
      " 6   # of Searches        29 non-null     float64\n",
      " 7   # of View Content    29 non-null     float64\n",
      " 8   # of Add to Cart     29 non-null     float64\n",
      " 9   # of Purchase        29 non-null     float64\n",
      "dtypes: float64(8), object(2)\n",
      "memory usage: 2.6+ KB\n",
      "None\n",
      "<class 'pandas.core.frame.DataFrame'>\n",
      "RangeIndex: 30 entries, 0 to 29\n",
      "Data columns (total 10 columns):\n",
      " #   Column               Non-Null Count  Dtype  \n",
      "---  ------               --------------  -----  \n",
      " 0   Campaign Name        30 non-null     object \n",
      " 1   Date                 30 non-null     object \n",
      " 2   Spend [USD]          30 non-null     float64\n",
      " 3   # of Impressions     30 non-null     int64  \n",
      " 4   Reach                30 non-null     int64  \n",
      " 5   # of Website Clicks  30 non-null     int64  \n",
      " 6   # of Searches        30 non-null     int64  \n",
      " 7   # of View Content    30 non-null     int64  \n",
      " 8   # of Add to Cart     30 non-null     int64  \n",
      " 9   # of Purchase        30 non-null     int64  \n",
      "dtypes: float64(1), int64(7), object(2)\n",
      "memory usage: 2.5+ KB\n",
      "None\n"
     ]
    }
   ],
   "source": [
    "print(df_A.info())\n",
    "print(df_B.info())"
   ]
  },
  {
   "cell_type": "code",
   "execution_count": null,
   "metadata": {},
   "outputs": [],
   "source": []
  },
  {
   "cell_type": "code",
   "execution_count": 5,
   "metadata": {},
   "outputs": [
    {
     "data": {
      "text/html": [
       "<div>\n",
       "<style scoped>\n",
       "    .dataframe tbody tr th:only-of-type {\n",
       "        vertical-align: middle;\n",
       "    }\n",
       "\n",
       "    .dataframe tbody tr th {\n",
       "        vertical-align: top;\n",
       "    }\n",
       "\n",
       "    .dataframe thead th {\n",
       "        text-align: right;\n",
       "    }\n",
       "</style>\n",
       "<table border=\"1\" class=\"dataframe\">\n",
       "  <thead>\n",
       "    <tr style=\"text-align: right;\">\n",
       "      <th></th>\n",
       "      <th>Campaign Name</th>\n",
       "      <th>Date</th>\n",
       "      <th>Spend [USD]</th>\n",
       "      <th># of Impressions</th>\n",
       "      <th>Reach</th>\n",
       "      <th># of Website Clicks</th>\n",
       "      <th># of Searches</th>\n",
       "      <th># of View Content</th>\n",
       "      <th># of Add to Cart</th>\n",
       "      <th># of Purchase</th>\n",
       "    </tr>\n",
       "  </thead>\n",
       "  <tbody>\n",
       "    <tr>\n",
       "      <th>0</th>\n",
       "      <td>Control Campaign</td>\n",
       "      <td>2017.01.01</td>\n",
       "      <td>2436.124529</td>\n",
       "      <td>90572.0</td>\n",
       "      <td>75440.0</td>\n",
       "      <td>4150.0</td>\n",
       "      <td>1657.0</td>\n",
       "      <td>1541.0</td>\n",
       "      <td>566.0</td>\n",
       "      <td>383.0</td>\n",
       "    </tr>\n",
       "    <tr>\n",
       "      <th>1</th>\n",
       "      <td>Control Campaign</td>\n",
       "      <td>2017.01.02</td>\n",
       "      <td>2621.043006</td>\n",
       "      <td>129612.0</td>\n",
       "      <td>95667.0</td>\n",
       "      <td>6387.0</td>\n",
       "      <td>2265.0</td>\n",
       "      <td>1563.0</td>\n",
       "      <td>1577.0</td>\n",
       "      <td>644.0</td>\n",
       "    </tr>\n",
       "    <tr>\n",
       "      <th>2</th>\n",
       "      <td>Control Campaign</td>\n",
       "      <td>2017.01.03</td>\n",
       "      <td>2427.021083</td>\n",
       "      <td>132803.0</td>\n",
       "      <td>121762.0</td>\n",
       "      <td>6887.0</td>\n",
       "      <td>3100.0</td>\n",
       "      <td>2048.0</td>\n",
       "      <td>1381.0</td>\n",
       "      <td>639.0</td>\n",
       "    </tr>\n",
       "    <tr>\n",
       "      <th>3</th>\n",
       "      <td>Control Campaign</td>\n",
       "      <td>2017.01.04</td>\n",
       "      <td>2565.414978</td>\n",
       "      <td>120570.0</td>\n",
       "      <td>104011.0</td>\n",
       "      <td>6478.0</td>\n",
       "      <td>2579.0</td>\n",
       "      <td>2083.0</td>\n",
       "      <td>1650.0</td>\n",
       "      <td>649.0</td>\n",
       "    </tr>\n",
       "    <tr>\n",
       "      <th>4</th>\n",
       "      <td>Control Campaign</td>\n",
       "      <td>2017.01.05</td>\n",
       "      <td>2648.683326</td>\n",
       "      <td>95822.0</td>\n",
       "      <td>69059.0</td>\n",
       "      <td>4532.0</td>\n",
       "      <td>1823.0</td>\n",
       "      <td>1220.0</td>\n",
       "      <td>940.0</td>\n",
       "      <td>455.0</td>\n",
       "    </tr>\n",
       "  </tbody>\n",
       "</table>\n",
       "</div>"
      ],
      "text/plain": [
       "      Campaign Name        Date  Spend [USD]  # of Impressions     Reach  \\\n",
       "0  Control Campaign  2017.01.01  2436.124529           90572.0   75440.0   \n",
       "1  Control Campaign  2017.01.02  2621.043006          129612.0   95667.0   \n",
       "2  Control Campaign  2017.01.03  2427.021083          132803.0  121762.0   \n",
       "3  Control Campaign  2017.01.04  2565.414978          120570.0  104011.0   \n",
       "4  Control Campaign  2017.01.05  2648.683326           95822.0   69059.0   \n",
       "\n",
       "   # of Website Clicks  # of Searches  # of View Content  # of Add to Cart  \\\n",
       "0               4150.0         1657.0             1541.0             566.0   \n",
       "1               6387.0         2265.0             1563.0            1577.0   \n",
       "2               6887.0         3100.0             2048.0            1381.0   \n",
       "3               6478.0         2579.0             2083.0            1650.0   \n",
       "4               4532.0         1823.0             1220.0             940.0   \n",
       "\n",
       "   # of Purchase  \n",
       "0          383.0  \n",
       "1          644.0  \n",
       "2          639.0  \n",
       "3          649.0  \n",
       "4          455.0  "
      ]
     },
     "execution_count": 5,
     "metadata": {},
     "output_type": "execute_result"
    }
   ],
   "source": [
    "df_A.head()"
   ]
  },
  {
   "cell_type": "code",
   "execution_count": 6,
   "metadata": {},
   "outputs": [],
   "source": [
    "df_A=df_A.rename(columns = {\"Campaign Name\":\"camp_name\"})\n",
    "df_A=df_A.rename(columns = {\"Date\":\"date\"})\n",
    "df_A=df_A.rename(columns = {\"Spend [USD]\":\"spend\"})\n",
    "df_A=df_A.rename(columns = {\"# of Impressions\":\"impressions\"})\n",
    "df_A=df_A.rename(columns = {\"Reach\":\"reach\"})\n",
    "df_A=df_A.rename(columns = {\"# of Website Clicks\":\"clicks\"})\n",
    "df_A=df_A.rename(columns = {\"# of Searches\":\"searches\"})\n",
    "df_A=df_A.rename(columns = {\"# of View Content\":\"view_content\"})\n",
    "df_A=df_A.rename(columns = {\"# of Add to Cart\":\"add_cart\"})\n",
    "df_A=df_A.rename(columns = {\"# of Purchase\":\"purchase\"})"
   ]
  },
  {
   "cell_type": "code",
   "execution_count": 7,
   "metadata": {},
   "outputs": [
    {
     "data": {
      "text/html": [
       "<div>\n",
       "<style scoped>\n",
       "    .dataframe tbody tr th:only-of-type {\n",
       "        vertical-align: middle;\n",
       "    }\n",
       "\n",
       "    .dataframe tbody tr th {\n",
       "        vertical-align: top;\n",
       "    }\n",
       "\n",
       "    .dataframe thead th {\n",
       "        text-align: right;\n",
       "    }\n",
       "</style>\n",
       "<table border=\"1\" class=\"dataframe\">\n",
       "  <thead>\n",
       "    <tr style=\"text-align: right;\">\n",
       "      <th></th>\n",
       "      <th>camp_name</th>\n",
       "      <th>date</th>\n",
       "      <th>spend</th>\n",
       "      <th>impressions</th>\n",
       "      <th>reach</th>\n",
       "      <th>clicks</th>\n",
       "      <th>searches</th>\n",
       "      <th>view_content</th>\n",
       "      <th>add_cart</th>\n",
       "      <th>purchase</th>\n",
       "    </tr>\n",
       "  </thead>\n",
       "  <tbody>\n",
       "    <tr>\n",
       "      <th>0</th>\n",
       "      <td>Control Campaign</td>\n",
       "      <td>2017.01.01</td>\n",
       "      <td>2436.124529</td>\n",
       "      <td>90572.0</td>\n",
       "      <td>75440.0</td>\n",
       "      <td>4150.0</td>\n",
       "      <td>1657.0</td>\n",
       "      <td>1541.0</td>\n",
       "      <td>566.0</td>\n",
       "      <td>383.0</td>\n",
       "    </tr>\n",
       "  </tbody>\n",
       "</table>\n",
       "</div>"
      ],
      "text/plain": [
       "          camp_name        date        spend  impressions    reach  clicks  \\\n",
       "0  Control Campaign  2017.01.01  2436.124529      90572.0  75440.0  4150.0   \n",
       "\n",
       "   searches  view_content  add_cart  purchase  \n",
       "0    1657.0        1541.0     566.0     383.0  "
      ]
     },
     "execution_count": 7,
     "metadata": {},
     "output_type": "execute_result"
    }
   ],
   "source": [
    "df_A.head(1)"
   ]
  },
  {
   "cell_type": "code",
   "execution_count": 8,
   "metadata": {},
   "outputs": [
    {
     "data": {
      "text/plain": [
       "camp_name       1\n",
       "date            2\n",
       "spend           2\n",
       "impressions     3\n",
       "reach           3\n",
       "clicks          3\n",
       "searches        3\n",
       "view_content    3\n",
       "add_cart        3\n",
       "purchase        3\n",
       "dtype: int64"
      ]
     },
     "execution_count": 8,
     "metadata": {},
     "output_type": "execute_result"
    }
   ],
   "source": [
    "df_A.isnull().sum()"
   ]
  },
  {
   "cell_type": "code",
   "execution_count": 9,
   "metadata": {},
   "outputs": [],
   "source": [
    "df_A.drop([30,31], axis=0, inplace=True)"
   ]
  },
  {
   "cell_type": "code",
   "execution_count": 10,
   "metadata": {},
   "outputs": [],
   "source": [
    "df_A.fillna(df_A.mean(),inplace=True)\n"
   ]
  },
  {
   "cell_type": "code",
   "execution_count": 11,
   "metadata": {},
   "outputs": [
    {
     "data": {
      "text/plain": [
       "camp_name       0\n",
       "date            0\n",
       "spend           0\n",
       "impressions     0\n",
       "reach           0\n",
       "clicks          0\n",
       "searches        0\n",
       "view_content    0\n",
       "add_cart        0\n",
       "purchase        0\n",
       "dtype: int64"
      ]
     },
     "execution_count": 11,
     "metadata": {},
     "output_type": "execute_result"
    }
   ],
   "source": [
    "df_A.isnull().sum()"
   ]
  },
  {
   "cell_type": "code",
   "execution_count": 12,
   "metadata": {},
   "outputs": [],
   "source": [
    "df_B=df_B.rename(columns = {\"Campaign Name\":\"camp_name\"})\n",
    "df_B=df_B.rename(columns = {\"Date\":\"date\"})\n",
    "df_B=df_B.rename(columns = {\"Spend [USD]\":\"spend\"})\n",
    "df_B=df_B.rename(columns = {\"# of Impressions\":\"impressions\"})\n",
    "df_B=df_B.rename(columns = {\"Reach\":\"reach\"})\n",
    "df_B=df_B.rename(columns = {\"# of Website Clicks\":\"clicks\"})\n",
    "df_B=df_B.rename(columns = {\"# of Searches\":\"searches\"})\n",
    "df_B=df_B.rename(columns = {\"# of View Content\":\"view_content\"})\n",
    "df_B=df_B.rename(columns = {\"# of Add to Cart\":\"add_cart\"})\n",
    "df_B=df_B.rename(columns = {\"# of Purchase\":\"purchase\"})"
   ]
  },
  {
   "cell_type": "code",
   "execution_count": 13,
   "metadata": {},
   "outputs": [
    {
     "data": {
      "text/html": [
       "<div>\n",
       "<style scoped>\n",
       "    .dataframe tbody tr th:only-of-type {\n",
       "        vertical-align: middle;\n",
       "    }\n",
       "\n",
       "    .dataframe tbody tr th {\n",
       "        vertical-align: top;\n",
       "    }\n",
       "\n",
       "    .dataframe thead th {\n",
       "        text-align: right;\n",
       "    }\n",
       "</style>\n",
       "<table border=\"1\" class=\"dataframe\">\n",
       "  <thead>\n",
       "    <tr style=\"text-align: right;\">\n",
       "      <th></th>\n",
       "      <th>camp_name</th>\n",
       "      <th>date</th>\n",
       "      <th>spend</th>\n",
       "      <th>impressions</th>\n",
       "      <th>reach</th>\n",
       "      <th>clicks</th>\n",
       "      <th>searches</th>\n",
       "      <th>view_content</th>\n",
       "      <th>add_cart</th>\n",
       "      <th>purchase</th>\n",
       "    </tr>\n",
       "  </thead>\n",
       "  <tbody>\n",
       "    <tr>\n",
       "      <th>0</th>\n",
       "      <td>Test Campaign</td>\n",
       "      <td>2017.01.01</td>\n",
       "      <td>2335.586267</td>\n",
       "      <td>160244</td>\n",
       "      <td>121551</td>\n",
       "      <td>8223</td>\n",
       "      <td>2989</td>\n",
       "      <td>2949</td>\n",
       "      <td>1371</td>\n",
       "      <td>913</td>\n",
       "    </tr>\n",
       "    <tr>\n",
       "      <th>1</th>\n",
       "      <td>Test Campaign</td>\n",
       "      <td>2017.01.02</td>\n",
       "      <td>2899.490621</td>\n",
       "      <td>100793</td>\n",
       "      <td>68241</td>\n",
       "      <td>4972</td>\n",
       "      <td>2162</td>\n",
       "      <td>1388</td>\n",
       "      <td>1253</td>\n",
       "      <td>510</td>\n",
       "    </tr>\n",
       "    <tr>\n",
       "      <th>2</th>\n",
       "      <td>Test Campaign</td>\n",
       "      <td>2017.01.03</td>\n",
       "      <td>3031.740149</td>\n",
       "      <td>89525</td>\n",
       "      <td>83450</td>\n",
       "      <td>3514</td>\n",
       "      <td>1365</td>\n",
       "      <td>1251</td>\n",
       "      <td>995</td>\n",
       "      <td>391</td>\n",
       "    </tr>\n",
       "    <tr>\n",
       "      <th>3</th>\n",
       "      <td>Test Campaign</td>\n",
       "      <td>2017.01.04</td>\n",
       "      <td>2794.847648</td>\n",
       "      <td>110122</td>\n",
       "      <td>89985</td>\n",
       "      <td>4411</td>\n",
       "      <td>1533</td>\n",
       "      <td>1134</td>\n",
       "      <td>951</td>\n",
       "      <td>434</td>\n",
       "    </tr>\n",
       "    <tr>\n",
       "      <th>4</th>\n",
       "      <td>Test Campaign</td>\n",
       "      <td>2017.01.05</td>\n",
       "      <td>2201.845423</td>\n",
       "      <td>122204</td>\n",
       "      <td>84000</td>\n",
       "      <td>5165</td>\n",
       "      <td>1582</td>\n",
       "      <td>1007</td>\n",
       "      <td>810</td>\n",
       "      <td>492</td>\n",
       "    </tr>\n",
       "  </tbody>\n",
       "</table>\n",
       "</div>"
      ],
      "text/plain": [
       "       camp_name        date        spend  impressions   reach  clicks  \\\n",
       "0  Test Campaign  2017.01.01  2335.586267       160244  121551    8223   \n",
       "1  Test Campaign  2017.01.02  2899.490621       100793   68241    4972   \n",
       "2  Test Campaign  2017.01.03  3031.740149        89525   83450    3514   \n",
       "3  Test Campaign  2017.01.04  2794.847648       110122   89985    4411   \n",
       "4  Test Campaign  2017.01.05  2201.845423       122204   84000    5165   \n",
       "\n",
       "   searches  view_content  add_cart  purchase  \n",
       "0      2989          2949      1371       913  \n",
       "1      2162          1388      1253       510  \n",
       "2      1365          1251       995       391  \n",
       "3      1533          1134       951       434  \n",
       "4      1582          1007       810       492  "
      ]
     },
     "execution_count": 13,
     "metadata": {},
     "output_type": "execute_result"
    }
   ],
   "source": [
    "df_B.head()\n"
   ]
  },
  {
   "cell_type": "code",
   "execution_count": 58,
   "metadata": {},
   "outputs": [],
   "source": [
    "df_A[\"clickth_rate\"]=df_A[\"clicks\"]/(df_A[\"impressions\"]*100)"
   ]
  },
  {
   "cell_type": "code",
   "execution_count": 59,
   "metadata": {},
   "outputs": [],
   "source": [
    "df_B[\"clickth_rate\"]=df_B[\"clicks\"]/(df_B[\"impressions\"]*100)"
   ]
  },
  {
   "cell_type": "code",
   "execution_count": 16,
   "metadata": {},
   "outputs": [],
   "source": [
    "df_A[\"cost_act\"]=df_A[\"spend\"]/df_A[\"purchase\"]"
   ]
  },
  {
   "cell_type": "code",
   "execution_count": 17,
   "metadata": {},
   "outputs": [],
   "source": [
    "df_B[\"cost_act\"]=df_B[\"spend\"]/df_B[\"purchase\"]"
   ]
  },
  {
   "cell_type": "code",
   "execution_count": 60,
   "metadata": {},
   "outputs": [],
   "source": [
    "df_A[\"con_rate\"]=df_A[\"purchase\"]/(df_A[\"clicks\"]*100)"
   ]
  },
  {
   "cell_type": "code",
   "execution_count": 61,
   "metadata": {},
   "outputs": [],
   "source": [
    "df_B[\"con_rate\"]=df_B[\"purchase\"]/(df_B[\"clicks\"]*100)"
   ]
  },
  {
   "cell_type": "code",
   "execution_count": 20,
   "metadata": {},
   "outputs": [],
   "source": [
    "df_Ax=df_A.drop(columns =[\"camp_name\",\"date\",\"spend\",\"impressions\",\"reach\",\"clicks\",\"searches\",\"view_content\",\"add_cart\",\"clickth_rate\",\"cost_act\",\"clickth_rate\",\"con_rate\"],axis=1) \n"
   ]
  },
  {
   "cell_type": "code",
   "execution_count": 21,
   "metadata": {},
   "outputs": [],
   "source": [
    "df_Bx=df_B.drop(columns =[\"camp_name\",\"date\",\"spend\",\"impressions\",\"reach\",\"clicks\",\"searches\",\"view_content\",\"add_cart\",\"clickth_rate\",\"cost_act\",\"clickth_rate\",\"con_rate\"],axis=1) \n"
   ]
  },
  {
   "cell_type": "code",
   "execution_count": 22,
   "metadata": {},
   "outputs": [
    {
     "name": "stdout",
     "output_type": "stream",
     "text": [
      "          camp_name        date        spend  impressions     reach  clicks  \\\n",
      "0  Control Campaign  2017.01.01  2436.124529      90572.0   75440.0  4150.0   \n",
      "1  Control Campaign  2017.01.02  2621.043006     129612.0   95667.0  6387.0   \n",
      "2  Control Campaign  2017.01.03  2427.021083     132803.0  121762.0  6887.0   \n",
      "3  Control Campaign  2017.01.04  2565.414978     120570.0  104011.0  6478.0   \n",
      "4  Control Campaign  2017.01.05  2648.683326      95822.0   69059.0  4532.0   \n",
      "\n",
      "   searches  view_content  add_cart  purchase  clickth_rate  cost_act  \\\n",
      "0    1657.0        1541.0     566.0     383.0      4.581990  6.360638   \n",
      "1    2265.0        1563.0    1577.0     644.0      4.927784  4.069943   \n",
      "2    3100.0        2048.0    1381.0     639.0      5.185877  3.798155   \n",
      "3    2579.0        2083.0    1650.0     649.0      5.372812  3.952874   \n",
      "4    1823.0        1220.0     940.0     455.0      4.729603  5.821282   \n",
      "\n",
      "    con_rate  \n",
      "0   9.228916  \n",
      "1  10.082981  \n",
      "2   9.278351  \n",
      "3  10.018524  \n",
      "4  10.039718  \n",
      "       camp_name        date        spend  impressions   reach  clicks  \\\n",
      "0  Test Campaign  2017.01.01  2335.586267       160244  121551    8223   \n",
      "1  Test Campaign  2017.01.02  2899.490621       100793   68241    4972   \n",
      "2  Test Campaign  2017.01.03  3031.740149        89525   83450    3514   \n",
      "3  Test Campaign  2017.01.04  2794.847648       110122   89985    4411   \n",
      "4  Test Campaign  2017.01.05  2201.845423       122204   84000    5165   \n",
      "\n",
      "   searches  view_content  add_cart  purchase  clickth_rate  cost_act  \\\n",
      "0      2989          2949      1371       913      5.131549  2.558145   \n",
      "1      2162          1388      1253       510      4.932882  5.685276   \n",
      "2      1365          1251       995       391      3.925161  7.753811   \n",
      "3      1533          1134       951       434      4.005557  6.439741   \n",
      "4      1582          1007       810       492      4.226539  4.475296   \n",
      "\n",
      "    con_rate  \n",
      "0  11.103004  \n",
      "1  10.257442  \n",
      "2  11.126921  \n",
      "3   9.839039  \n",
      "4   9.525653  \n"
     ]
    }
   ],
   "source": [
    "print(df_A.head())\n",
    "print(df_B.head())"
   ]
  },
  {
   "cell_type": "code",
   "execution_count": 23,
   "metadata": {},
   "outputs": [
    {
     "name": "stdout",
     "output_type": "stream",
     "text": [
      "(30, 13)\n",
      "(30, 13)\n"
     ]
    }
   ],
   "source": [
    "print(df_A.shape)\n",
    "print(df_B.shape)"
   ]
  },
  {
   "cell_type": "code",
   "execution_count": 26,
   "metadata": {},
   "outputs": [],
   "source": [
    "\n",
    "df = pd.concat([df_A,df_B])\n",
    "df.columns = [\"camp_name\",\"date\",\"spend\",\"impressions\",\"reach\",\"clicks\",\"searches\",\"view_content\",\"add_cart\",\"purchase\",\"cost_act\",\"clickth_rate\",\"con_rate\"]\n",
    "\n"
   ]
  },
  {
   "cell_type": "code",
   "execution_count": 27,
   "metadata": {
    "collapsed": true,
    "jupyter": {
     "outputs_hidden": true
    }
   },
   "outputs": [
    {
     "data": {
      "text/html": [
       "<div>\n",
       "<style scoped>\n",
       "    .dataframe tbody tr th:only-of-type {\n",
       "        vertical-align: middle;\n",
       "    }\n",
       "\n",
       "    .dataframe tbody tr th {\n",
       "        vertical-align: top;\n",
       "    }\n",
       "\n",
       "    .dataframe thead th {\n",
       "        text-align: right;\n",
       "    }\n",
       "</style>\n",
       "<table border=\"1\" class=\"dataframe\">\n",
       "  <thead>\n",
       "    <tr style=\"text-align: right;\">\n",
       "      <th></th>\n",
       "      <th>camp_name</th>\n",
       "      <th>date</th>\n",
       "      <th>spend</th>\n",
       "      <th>impressions</th>\n",
       "      <th>reach</th>\n",
       "      <th>clicks</th>\n",
       "      <th>searches</th>\n",
       "      <th>view_content</th>\n",
       "      <th>add_cart</th>\n",
       "      <th>purchase</th>\n",
       "      <th>cost_act</th>\n",
       "      <th>clickth_rate</th>\n",
       "      <th>con_rate</th>\n",
       "    </tr>\n",
       "  </thead>\n",
       "  <tbody>\n",
       "    <tr>\n",
       "      <th>0</th>\n",
       "      <td>Control Campaign</td>\n",
       "      <td>2017.01.01</td>\n",
       "      <td>2436.124529</td>\n",
       "      <td>90572.000000</td>\n",
       "      <td>75440.000000</td>\n",
       "      <td>4150.000000</td>\n",
       "      <td>1657.000000</td>\n",
       "      <td>1541.000000</td>\n",
       "      <td>566.000000</td>\n",
       "      <td>383.00000</td>\n",
       "      <td>4.581990</td>\n",
       "      <td>6.360638</td>\n",
       "      <td>9.228916</td>\n",
       "    </tr>\n",
       "    <tr>\n",
       "      <th>1</th>\n",
       "      <td>Control Campaign</td>\n",
       "      <td>2017.01.02</td>\n",
       "      <td>2621.043006</td>\n",
       "      <td>129612.000000</td>\n",
       "      <td>95667.000000</td>\n",
       "      <td>6387.000000</td>\n",
       "      <td>2265.000000</td>\n",
       "      <td>1563.000000</td>\n",
       "      <td>1577.000000</td>\n",
       "      <td>644.00000</td>\n",
       "      <td>4.927784</td>\n",
       "      <td>4.069943</td>\n",
       "      <td>10.082981</td>\n",
       "    </tr>\n",
       "    <tr>\n",
       "      <th>2</th>\n",
       "      <td>Control Campaign</td>\n",
       "      <td>2017.01.03</td>\n",
       "      <td>2427.021083</td>\n",
       "      <td>132803.000000</td>\n",
       "      <td>121762.000000</td>\n",
       "      <td>6887.000000</td>\n",
       "      <td>3100.000000</td>\n",
       "      <td>2048.000000</td>\n",
       "      <td>1381.000000</td>\n",
       "      <td>639.00000</td>\n",
       "      <td>5.185877</td>\n",
       "      <td>3.798155</td>\n",
       "      <td>9.278351</td>\n",
       "    </tr>\n",
       "    <tr>\n",
       "      <th>3</th>\n",
       "      <td>Control Campaign</td>\n",
       "      <td>2017.01.04</td>\n",
       "      <td>2565.414978</td>\n",
       "      <td>120570.000000</td>\n",
       "      <td>104011.000000</td>\n",
       "      <td>6478.000000</td>\n",
       "      <td>2579.000000</td>\n",
       "      <td>2083.000000</td>\n",
       "      <td>1650.000000</td>\n",
       "      <td>649.00000</td>\n",
       "      <td>5.372812</td>\n",
       "      <td>3.952874</td>\n",
       "      <td>10.018524</td>\n",
       "    </tr>\n",
       "    <tr>\n",
       "      <th>4</th>\n",
       "      <td>Control Campaign</td>\n",
       "      <td>2017.01.05</td>\n",
       "      <td>2648.683326</td>\n",
       "      <td>95822.000000</td>\n",
       "      <td>69059.000000</td>\n",
       "      <td>4532.000000</td>\n",
       "      <td>1823.000000</td>\n",
       "      <td>1220.000000</td>\n",
       "      <td>940.000000</td>\n",
       "      <td>455.00000</td>\n",
       "      <td>4.729603</td>\n",
       "      <td>5.821282</td>\n",
       "      <td>10.039718</td>\n",
       "    </tr>\n",
       "    <tr>\n",
       "      <th>5</th>\n",
       "      <td>Control Campaign</td>\n",
       "      <td>2017.01.06</td>\n",
       "      <td>2306.081623</td>\n",
       "      <td>118268.000000</td>\n",
       "      <td>83562.000000</td>\n",
       "      <td>6596.000000</td>\n",
       "      <td>2955.000000</td>\n",
       "      <td>1815.000000</td>\n",
       "      <td>1455.000000</td>\n",
       "      <td>734.00000</td>\n",
       "      <td>5.577164</td>\n",
       "      <td>3.141801</td>\n",
       "      <td>11.127956</td>\n",
       "    </tr>\n",
       "    <tr>\n",
       "      <th>6</th>\n",
       "      <td>Control Campaign</td>\n",
       "      <td>2017.01.07</td>\n",
       "      <td>2356.996404</td>\n",
       "      <td>144806.000000</td>\n",
       "      <td>105315.000000</td>\n",
       "      <td>8139.000000</td>\n",
       "      <td>3262.000000</td>\n",
       "      <td>2559.000000</td>\n",
       "      <td>1502.000000</td>\n",
       "      <td>799.00000</td>\n",
       "      <td>5.620623</td>\n",
       "      <td>2.949933</td>\n",
       "      <td>9.816931</td>\n",
       "    </tr>\n",
       "    <tr>\n",
       "      <th>7</th>\n",
       "      <td>Control Campaign</td>\n",
       "      <td>2017.01.08</td>\n",
       "      <td>2670.222971</td>\n",
       "      <td>97719.000000</td>\n",
       "      <td>74746.000000</td>\n",
       "      <td>5508.000000</td>\n",
       "      <td>2282.000000</td>\n",
       "      <td>1840.000000</td>\n",
       "      <td>837.000000</td>\n",
       "      <td>605.00000</td>\n",
       "      <td>5.636570</td>\n",
       "      <td>4.413592</td>\n",
       "      <td>10.984023</td>\n",
       "    </tr>\n",
       "    <tr>\n",
       "      <th>8</th>\n",
       "      <td>Control Campaign</td>\n",
       "      <td>2017.01.09</td>\n",
       "      <td>2720.901584</td>\n",
       "      <td>113781.000000</td>\n",
       "      <td>97334.000000</td>\n",
       "      <td>5901.000000</td>\n",
       "      <td>2109.000000</td>\n",
       "      <td>1955.000000</td>\n",
       "      <td>1959.000000</td>\n",
       "      <td>562.00000</td>\n",
       "      <td>5.186279</td>\n",
       "      <td>4.841462</td>\n",
       "      <td>9.523810</td>\n",
       "    </tr>\n",
       "    <tr>\n",
       "      <th>9</th>\n",
       "      <td>Control Campaign</td>\n",
       "      <td>2017.01.10</td>\n",
       "      <td>2441.534142</td>\n",
       "      <td>125097.000000</td>\n",
       "      <td>90192.000000</td>\n",
       "      <td>7646.000000</td>\n",
       "      <td>2914.000000</td>\n",
       "      <td>2200.000000</td>\n",
       "      <td>1433.000000</td>\n",
       "      <td>717.00000</td>\n",
       "      <td>6.112057</td>\n",
       "      <td>3.405208</td>\n",
       "      <td>9.377452</td>\n",
       "    </tr>\n",
       "    <tr>\n",
       "      <th>10</th>\n",
       "      <td>Control Campaign</td>\n",
       "      <td>2017.01.11</td>\n",
       "      <td>2757.649696</td>\n",
       "      <td>134810.000000</td>\n",
       "      <td>106025.000000</td>\n",
       "      <td>6689.000000</td>\n",
       "      <td>3028.000000</td>\n",
       "      <td>1898.000000</td>\n",
       "      <td>1578.000000</td>\n",
       "      <td>663.00000</td>\n",
       "      <td>4.961798</td>\n",
       "      <td>4.159351</td>\n",
       "      <td>9.911795</td>\n",
       "    </tr>\n",
       "    <tr>\n",
       "      <th>11</th>\n",
       "      <td>Control Campaign</td>\n",
       "      <td>2017.01.12</td>\n",
       "      <td>2648.565944</td>\n",
       "      <td>114608.827586</td>\n",
       "      <td>87628.482759</td>\n",
       "      <td>5150.896552</td>\n",
       "      <td>2016.758621</td>\n",
       "      <td>1546.310345</td>\n",
       "      <td>1061.862069</td>\n",
       "      <td>507.37931</td>\n",
       "      <td>4.494328</td>\n",
       "      <td>5.220091</td>\n",
       "      <td>9.850311</td>\n",
       "    </tr>\n",
       "    <tr>\n",
       "      <th>12</th>\n",
       "      <td>Control Campaign</td>\n",
       "      <td>2017.01.13</td>\n",
       "      <td>3105.836356</td>\n",
       "      <td>96185.000000</td>\n",
       "      <td>71186.000000</td>\n",
       "      <td>4455.000000</td>\n",
       "      <td>1840.000000</td>\n",
       "      <td>1100.000000</td>\n",
       "      <td>715.000000</td>\n",
       "      <td>449.00000</td>\n",
       "      <td>4.631699</td>\n",
       "      <td>6.917230</td>\n",
       "      <td>10.078563</td>\n",
       "    </tr>\n",
       "    <tr>\n",
       "      <th>13</th>\n",
       "      <td>Control Campaign</td>\n",
       "      <td>2017.01.14</td>\n",
       "      <td>2059.347912</td>\n",
       "      <td>111824.000000</td>\n",
       "      <td>90412.000000</td>\n",
       "      <td>4247.000000</td>\n",
       "      <td>1365.000000</td>\n",
       "      <td>1210.000000</td>\n",
       "      <td>778.000000</td>\n",
       "      <td>457.00000</td>\n",
       "      <td>3.797932</td>\n",
       "      <td>4.506232</td>\n",
       "      <td>10.760537</td>\n",
       "    </tr>\n",
       "    <tr>\n",
       "      <th>14</th>\n",
       "      <td>Control Campaign</td>\n",
       "      <td>2017.01.15</td>\n",
       "      <td>2549.081035</td>\n",
       "      <td>120735.000000</td>\n",
       "      <td>80444.000000</td>\n",
       "      <td>5919.000000</td>\n",
       "      <td>1969.000000</td>\n",
       "      <td>2048.000000</td>\n",
       "      <td>1626.000000</td>\n",
       "      <td>596.00000</td>\n",
       "      <td>4.902472</td>\n",
       "      <td>4.276982</td>\n",
       "      <td>10.069268</td>\n",
       "    </tr>\n",
       "    <tr>\n",
       "      <th>15</th>\n",
       "      <td>Control Campaign</td>\n",
       "      <td>2017.01.16</td>\n",
       "      <td>2147.148579</td>\n",
       "      <td>119465.000000</td>\n",
       "      <td>106623.000000</td>\n",
       "      <td>4994.000000</td>\n",
       "      <td>1920.000000</td>\n",
       "      <td>1585.000000</td>\n",
       "      <td>1135.000000</td>\n",
       "      <td>472.00000</td>\n",
       "      <td>4.180304</td>\n",
       "      <td>4.549044</td>\n",
       "      <td>9.451342</td>\n",
       "    </tr>\n",
       "    <tr>\n",
       "      <th>16</th>\n",
       "      <td>Control Campaign</td>\n",
       "      <td>2017.01.17</td>\n",
       "      <td>1723.719827</td>\n",
       "      <td>136320.000000</td>\n",
       "      <td>88532.000000</td>\n",
       "      <td>6404.000000</td>\n",
       "      <td>2214.000000</td>\n",
       "      <td>2051.000000</td>\n",
       "      <td>1071.000000</td>\n",
       "      <td>603.00000</td>\n",
       "      <td>4.697770</td>\n",
       "      <td>2.858574</td>\n",
       "      <td>9.415990</td>\n",
       "    </tr>\n",
       "    <tr>\n",
       "      <th>17</th>\n",
       "      <td>Control Campaign</td>\n",
       "      <td>2017.01.18</td>\n",
       "      <td>2737.803732</td>\n",
       "      <td>119816.000000</td>\n",
       "      <td>83154.000000</td>\n",
       "      <td>4904.000000</td>\n",
       "      <td>1735.000000</td>\n",
       "      <td>1605.000000</td>\n",
       "      <td>1567.000000</td>\n",
       "      <td>467.00000</td>\n",
       "      <td>4.092943</td>\n",
       "      <td>5.862535</td>\n",
       "      <td>9.522838</td>\n",
       "    </tr>\n",
       "    <tr>\n",
       "      <th>18</th>\n",
       "      <td>Control Campaign</td>\n",
       "      <td>2017.01.19</td>\n",
       "      <td>2309.703158</td>\n",
       "      <td>120979.000000</td>\n",
       "      <td>92930.000000</td>\n",
       "      <td>4975.000000</td>\n",
       "      <td>2108.000000</td>\n",
       "      <td>1498.000000</td>\n",
       "      <td>1047.000000</td>\n",
       "      <td>522.00000</td>\n",
       "      <td>4.112284</td>\n",
       "      <td>4.424719</td>\n",
       "      <td>10.492462</td>\n",
       "    </tr>\n",
       "    <tr>\n",
       "      <th>19</th>\n",
       "      <td>Control Campaign</td>\n",
       "      <td>2017.01.20</td>\n",
       "      <td>2855.811844</td>\n",
       "      <td>146702.000000</td>\n",
       "      <td>110541.000000</td>\n",
       "      <td>6088.000000</td>\n",
       "      <td>1984.000000</td>\n",
       "      <td>1759.000000</td>\n",
       "      <td>809.000000</td>\n",
       "      <td>560.00000</td>\n",
       "      <td>4.149909</td>\n",
       "      <td>5.099664</td>\n",
       "      <td>9.198423</td>\n",
       "    </tr>\n",
       "    <tr>\n",
       "      <th>20</th>\n",
       "      <td>Control Campaign</td>\n",
       "      <td>2017.01.21</td>\n",
       "      <td>2432.439188</td>\n",
       "      <td>115224.000000</td>\n",
       "      <td>86442.000000</td>\n",
       "      <td>4635.000000</td>\n",
       "      <td>1522.000000</td>\n",
       "      <td>1321.000000</td>\n",
       "      <td>840.000000</td>\n",
       "      <td>434.00000</td>\n",
       "      <td>4.022599</td>\n",
       "      <td>5.604699</td>\n",
       "      <td>9.363538</td>\n",
       "    </tr>\n",
       "    <tr>\n",
       "      <th>21</th>\n",
       "      <td>Control Campaign</td>\n",
       "      <td>2017.01.22</td>\n",
       "      <td>2525.004355</td>\n",
       "      <td>118154.000000</td>\n",
       "      <td>90420.000000</td>\n",
       "      <td>5395.000000</td>\n",
       "      <td>2361.000000</td>\n",
       "      <td>1511.000000</td>\n",
       "      <td>1013.000000</td>\n",
       "      <td>555.00000</td>\n",
       "      <td>4.566075</td>\n",
       "      <td>4.549557</td>\n",
       "      <td>10.287303</td>\n",
       "    </tr>\n",
       "    <tr>\n",
       "      <th>22</th>\n",
       "      <td>Control Campaign</td>\n",
       "      <td>2017.01.23</td>\n",
       "      <td>2589.509762</td>\n",
       "      <td>120140.000000</td>\n",
       "      <td>109423.000000</td>\n",
       "      <td>4551.000000</td>\n",
       "      <td>1798.000000</td>\n",
       "      <td>1110.000000</td>\n",
       "      <td>1075.000000</td>\n",
       "      <td>484.00000</td>\n",
       "      <td>3.788081</td>\n",
       "      <td>5.350227</td>\n",
       "      <td>10.635025</td>\n",
       "    </tr>\n",
       "    <tr>\n",
       "      <th>23</th>\n",
       "      <td>Control Campaign</td>\n",
       "      <td>2017.01.24</td>\n",
       "      <td>2288.488019</td>\n",
       "      <td>100833.000000</td>\n",
       "      <td>66248.000000</td>\n",
       "      <td>3729.000000</td>\n",
       "      <td>1217.000000</td>\n",
       "      <td>1382.000000</td>\n",
       "      <td>930.000000</td>\n",
       "      <td>364.00000</td>\n",
       "      <td>3.698194</td>\n",
       "      <td>6.287055</td>\n",
       "      <td>9.761330</td>\n",
       "    </tr>\n",
       "    <tr>\n",
       "      <th>24</th>\n",
       "      <td>Control Campaign</td>\n",
       "      <td>2017.01.25</td>\n",
       "      <td>2647.169853</td>\n",
       "      <td>81442.000000</td>\n",
       "      <td>73468.000000</td>\n",
       "      <td>2836.000000</td>\n",
       "      <td>1121.000000</td>\n",
       "      <td>939.000000</td>\n",
       "      <td>639.000000</td>\n",
       "      <td>285.00000</td>\n",
       "      <td>3.482233</td>\n",
       "      <td>9.288315</td>\n",
       "      <td>10.049365</td>\n",
       "    </tr>\n",
       "  </tbody>\n",
       "</table>\n",
       "</div>"
      ],
      "text/plain": [
       "           camp_name        date        spend    impressions          reach  \\\n",
       "0   Control Campaign  2017.01.01  2436.124529   90572.000000   75440.000000   \n",
       "1   Control Campaign  2017.01.02  2621.043006  129612.000000   95667.000000   \n",
       "2   Control Campaign  2017.01.03  2427.021083  132803.000000  121762.000000   \n",
       "3   Control Campaign  2017.01.04  2565.414978  120570.000000  104011.000000   \n",
       "4   Control Campaign  2017.01.05  2648.683326   95822.000000   69059.000000   \n",
       "5   Control Campaign  2017.01.06  2306.081623  118268.000000   83562.000000   \n",
       "6   Control Campaign  2017.01.07  2356.996404  144806.000000  105315.000000   \n",
       "7   Control Campaign  2017.01.08  2670.222971   97719.000000   74746.000000   \n",
       "8   Control Campaign  2017.01.09  2720.901584  113781.000000   97334.000000   \n",
       "9   Control Campaign  2017.01.10  2441.534142  125097.000000   90192.000000   \n",
       "10  Control Campaign  2017.01.11  2757.649696  134810.000000  106025.000000   \n",
       "11  Control Campaign  2017.01.12  2648.565944  114608.827586   87628.482759   \n",
       "12  Control Campaign  2017.01.13  3105.836356   96185.000000   71186.000000   \n",
       "13  Control Campaign  2017.01.14  2059.347912  111824.000000   90412.000000   \n",
       "14  Control Campaign  2017.01.15  2549.081035  120735.000000   80444.000000   \n",
       "15  Control Campaign  2017.01.16  2147.148579  119465.000000  106623.000000   \n",
       "16  Control Campaign  2017.01.17  1723.719827  136320.000000   88532.000000   \n",
       "17  Control Campaign  2017.01.18  2737.803732  119816.000000   83154.000000   \n",
       "18  Control Campaign  2017.01.19  2309.703158  120979.000000   92930.000000   \n",
       "19  Control Campaign  2017.01.20  2855.811844  146702.000000  110541.000000   \n",
       "20  Control Campaign  2017.01.21  2432.439188  115224.000000   86442.000000   \n",
       "21  Control Campaign  2017.01.22  2525.004355  118154.000000   90420.000000   \n",
       "22  Control Campaign  2017.01.23  2589.509762  120140.000000  109423.000000   \n",
       "23  Control Campaign  2017.01.24  2288.488019  100833.000000   66248.000000   \n",
       "24  Control Campaign  2017.01.25  2647.169853   81442.000000   73468.000000   \n",
       "\n",
       "         clicks     searches  view_content     add_cart   purchase  cost_act  \\\n",
       "0   4150.000000  1657.000000   1541.000000   566.000000  383.00000  4.581990   \n",
       "1   6387.000000  2265.000000   1563.000000  1577.000000  644.00000  4.927784   \n",
       "2   6887.000000  3100.000000   2048.000000  1381.000000  639.00000  5.185877   \n",
       "3   6478.000000  2579.000000   2083.000000  1650.000000  649.00000  5.372812   \n",
       "4   4532.000000  1823.000000   1220.000000   940.000000  455.00000  4.729603   \n",
       "5   6596.000000  2955.000000   1815.000000  1455.000000  734.00000  5.577164   \n",
       "6   8139.000000  3262.000000   2559.000000  1502.000000  799.00000  5.620623   \n",
       "7   5508.000000  2282.000000   1840.000000   837.000000  605.00000  5.636570   \n",
       "8   5901.000000  2109.000000   1955.000000  1959.000000  562.00000  5.186279   \n",
       "9   7646.000000  2914.000000   2200.000000  1433.000000  717.00000  6.112057   \n",
       "10  6689.000000  3028.000000   1898.000000  1578.000000  663.00000  4.961798   \n",
       "11  5150.896552  2016.758621   1546.310345  1061.862069  507.37931  4.494328   \n",
       "12  4455.000000  1840.000000   1100.000000   715.000000  449.00000  4.631699   \n",
       "13  4247.000000  1365.000000   1210.000000   778.000000  457.00000  3.797932   \n",
       "14  5919.000000  1969.000000   2048.000000  1626.000000  596.00000  4.902472   \n",
       "15  4994.000000  1920.000000   1585.000000  1135.000000  472.00000  4.180304   \n",
       "16  6404.000000  2214.000000   2051.000000  1071.000000  603.00000  4.697770   \n",
       "17  4904.000000  1735.000000   1605.000000  1567.000000  467.00000  4.092943   \n",
       "18  4975.000000  2108.000000   1498.000000  1047.000000  522.00000  4.112284   \n",
       "19  6088.000000  1984.000000   1759.000000   809.000000  560.00000  4.149909   \n",
       "20  4635.000000  1522.000000   1321.000000   840.000000  434.00000  4.022599   \n",
       "21  5395.000000  2361.000000   1511.000000  1013.000000  555.00000  4.566075   \n",
       "22  4551.000000  1798.000000   1110.000000  1075.000000  484.00000  3.788081   \n",
       "23  3729.000000  1217.000000   1382.000000   930.000000  364.00000  3.698194   \n",
       "24  2836.000000  1121.000000    939.000000   639.000000  285.00000  3.482233   \n",
       "\n",
       "    clickth_rate   con_rate  \n",
       "0       6.360638   9.228916  \n",
       "1       4.069943  10.082981  \n",
       "2       3.798155   9.278351  \n",
       "3       3.952874  10.018524  \n",
       "4       5.821282  10.039718  \n",
       "5       3.141801  11.127956  \n",
       "6       2.949933   9.816931  \n",
       "7       4.413592  10.984023  \n",
       "8       4.841462   9.523810  \n",
       "9       3.405208   9.377452  \n",
       "10      4.159351   9.911795  \n",
       "11      5.220091   9.850311  \n",
       "12      6.917230  10.078563  \n",
       "13      4.506232  10.760537  \n",
       "14      4.276982  10.069268  \n",
       "15      4.549044   9.451342  \n",
       "16      2.858574   9.415990  \n",
       "17      5.862535   9.522838  \n",
       "18      4.424719  10.492462  \n",
       "19      5.099664   9.198423  \n",
       "20      5.604699   9.363538  \n",
       "21      4.549557  10.287303  \n",
       "22      5.350227  10.635025  \n",
       "23      6.287055   9.761330  \n",
       "24      9.288315  10.049365  "
      ]
     },
     "execution_count": 27,
     "metadata": {},
     "output_type": "execute_result"
    }
   ],
   "source": [
    "df.head(25)"
   ]
  },
  {
   "cell_type": "code",
   "execution_count": 66,
   "metadata": {},
   "outputs": [
    {
     "data": {
      "image/png": "[encoded data removed]",
      "text/plain": [
       "<Figure size 432x288 with 1 Axes>"
      ]
     },
     "metadata": {
      "needs_background": "light"
     },
     "output_type": "display_data"
    }
   ],
   "source": [
    "sns.boxplot(x = \"camp_name\", y = \"purchase\", data = df);"
   ]
  },
  {
   "cell_type": "code",
   "execution_count": 65,
   "metadata": {},
   "outputs": [
    {
     "data": {
      "image/png": "[encoded data removed]",
      "text/plain": [
       "<Figure size 432x288 with 1 Axes>"
      ]
     },
     "metadata": {
      "needs_background": "light"
     },
     "output_type": "display_data"
    }
   ],
   "source": [
    "sns.boxplot(x = \"camp_name\", y = \"cost_act\", data = df);"
   ]
  },
  {
   "cell_type": "code",
   "execution_count": 62,
   "metadata": {},
   "outputs": [
    {
     "data": {
      "text/html": [
       "<div>\n",
       "<style scoped>\n",
       "    .dataframe tbody tr th:only-of-type {\n",
       "        vertical-align: middle;\n",
       "    }\n",
       "\n",
       "    .dataframe tbody tr th {\n",
       "        vertical-align: top;\n",
       "    }\n",
       "\n",
       "    .dataframe thead th {\n",
       "        text-align: right;\n",
       "    }\n",
       "</style>\n",
       "<table border=\"1\" class=\"dataframe\">\n",
       "  <thead>\n",
       "    <tr style=\"text-align: right;\">\n",
       "      <th></th>\n",
       "      <th>count</th>\n",
       "      <th>mean</th>\n",
       "      <th>std</th>\n",
       "      <th>min</th>\n",
       "      <th>25%</th>\n",
       "      <th>50%</th>\n",
       "      <th>75%</th>\n",
       "      <th>max</th>\n",
       "    </tr>\n",
       "  </thead>\n",
       "  <tbody>\n",
       "    <tr>\n",
       "      <th>spend</th>\n",
       "      <td>30.0</td>\n",
       "      <td>2481.788026</td>\n",
       "      <td>270.352050</td>\n",
       "      <td>1723.719827</td>\n",
       "      <td>2321.526469</td>\n",
       "      <td>2499.630727</td>\n",
       "      <td>2648.653980</td>\n",
       "      <td>3105.836356</td>\n",
       "    </tr>\n",
       "    <tr>\n",
       "      <th>impressions</th>\n",
       "      <td>30.0</td>\n",
       "      <td>114608.827586</td>\n",
       "      <td>17806.828121</td>\n",
       "      <td>68766.000000</td>\n",
       "      <td>100785.000000</td>\n",
       "      <td>118211.000000</td>\n",
       "      <td>124067.500000</td>\n",
       "      <td>146702.000000</td>\n",
       "    </tr>\n",
       "    <tr>\n",
       "      <th>reach</th>\n",
       "      <td>30.0</td>\n",
       "      <td>87628.482759</td>\n",
       "      <td>15681.261441</td>\n",
       "      <td>49422.000000</td>\n",
       "      <td>76454.500000</td>\n",
       "      <td>87035.241379</td>\n",
       "      <td>96917.250000</td>\n",
       "      <td>121762.000000</td>\n",
       "    </tr>\n",
       "    <tr>\n",
       "      <th>clicks</th>\n",
       "      <td>30.0</td>\n",
       "      <td>5150.896552</td>\n",
       "      <td>1407.475788</td>\n",
       "      <td>2244.000000</td>\n",
       "      <td>4280.500000</td>\n",
       "      <td>4984.500000</td>\n",
       "      <td>6312.250000</td>\n",
       "      <td>8139.000000</td>\n",
       "    </tr>\n",
       "    <tr>\n",
       "      <th>searches</th>\n",
       "      <td>30.0</td>\n",
       "      <td>2016.758621</td>\n",
       "      <td>610.253517</td>\n",
       "      <td>931.000000</td>\n",
       "      <td>1676.500000</td>\n",
       "      <td>1974.500000</td>\n",
       "      <td>2277.750000</td>\n",
       "      <td>3262.000000</td>\n",
       "    </tr>\n",
       "    <tr>\n",
       "      <th>view_content</th>\n",
       "      <td>30.0</td>\n",
       "      <td>1546.310345</td>\n",
       "      <td>457.959877</td>\n",
       "      <td>500.000000</td>\n",
       "      <td>1245.250000</td>\n",
       "      <td>1543.655172</td>\n",
       "      <td>1883.500000</td>\n",
       "      <td>2559.000000</td>\n",
       "    </tr>\n",
       "    <tr>\n",
       "      <th>add_cart</th>\n",
       "      <td>30.0</td>\n",
       "      <td>1061.862069</td>\n",
       "      <td>421.877881</td>\n",
       "      <td>303.000000</td>\n",
       "      <td>730.750000</td>\n",
       "      <td>1030.000000</td>\n",
       "      <td>1449.500000</td>\n",
       "      <td>1959.000000</td>\n",
       "    </tr>\n",
       "    <tr>\n",
       "      <th>purchase</th>\n",
       "      <td>30.0</td>\n",
       "      <td>507.379310</td>\n",
       "      <td>143.573702</td>\n",
       "      <td>217.000000</td>\n",
       "      <td>408.500000</td>\n",
       "      <td>495.689655</td>\n",
       "      <td>604.500000</td>\n",
       "      <td>799.000000</td>\n",
       "    </tr>\n",
       "    <tr>\n",
       "      <th>clickth_rate</th>\n",
       "      <td>30.0</td>\n",
       "      <td>0.000445</td>\n",
       "      <td>0.000080</td>\n",
       "      <td>0.000308</td>\n",
       "      <td>0.000379</td>\n",
       "      <td>0.000453</td>\n",
       "      <td>0.000495</td>\n",
       "      <td>0.000611</td>\n",
       "    </tr>\n",
       "    <tr>\n",
       "      <th>cost_act</th>\n",
       "      <td>30.0</td>\n",
       "      <td>5.374692</td>\n",
       "      <td>1.979041</td>\n",
       "      <td>2.858574</td>\n",
       "      <td>4.188759</td>\n",
       "      <td>4.970563</td>\n",
       "      <td>5.852222</td>\n",
       "      <td>11.097485</td>\n",
       "    </tr>\n",
       "    <tr>\n",
       "      <th>con_rate</th>\n",
       "      <td>30.0</td>\n",
       "      <td>0.000983</td>\n",
       "      <td>0.000069</td>\n",
       "      <td>0.000793</td>\n",
       "      <td>0.000939</td>\n",
       "      <td>0.000983</td>\n",
       "      <td>0.001008</td>\n",
       "      <td>0.001113</td>\n",
       "    </tr>\n",
       "  </tbody>\n",
       "</table>\n",
       "</div>"
      ],
      "text/plain": [
       "              count           mean           std           min            25%  \\\n",
       "spend          30.0    2481.788026    270.352050   1723.719827    2321.526469   \n",
       "impressions    30.0  114608.827586  17806.828121  68766.000000  100785.000000   \n",
       "reach          30.0   87628.482759  15681.261441  49422.000000   76454.500000   \n",
       "clicks         30.0    5150.896552   1407.475788   2244.000000    4280.500000   \n",
       "searches       30.0    2016.758621    610.253517    931.000000    1676.500000   \n",
       "view_content   30.0    1546.310345    457.959877    500.000000    1245.250000   \n",
       "add_cart       30.0    1061.862069    421.877881    303.000000     730.750000   \n",
       "purchase       30.0     507.379310    143.573702    217.000000     408.500000   \n",
       "clickth_rate   30.0       0.000445      0.000080      0.000308       0.000379   \n",
       "cost_act       30.0       5.374692      1.979041      2.858574       4.188759   \n",
       "con_rate       30.0       0.000983      0.000069      0.000793       0.000939   \n",
       "\n",
       "                        50%            75%            max  \n",
       "spend           2499.630727    2648.653980    3105.836356  \n",
       "impressions   118211.000000  124067.500000  146702.000000  \n",
       "reach          87035.241379   96917.250000  121762.000000  \n",
       "clicks          4984.500000    6312.250000    8139.000000  \n",
       "searches        1974.500000    2277.750000    3262.000000  \n",
       "view_content    1543.655172    1883.500000    2559.000000  \n",
       "add_cart        1030.000000    1449.500000    1959.000000  \n",
       "purchase         495.689655     604.500000     799.000000  \n",
       "clickth_rate       0.000453       0.000495       0.000611  \n",
       "cost_act           4.970563       5.852222      11.097485  \n",
       "con_rate           0.000983       0.001008       0.001113  "
      ]
     },
     "execution_count": 62,
     "metadata": {},
     "output_type": "execute_result"
    }
   ],
   "source": [
    "df_A.describe().T"
   ]
  },
  {
   "cell_type": "code",
   "execution_count": 57,
   "metadata": {},
   "outputs": [
    {
     "data": {
      "text/html": [
       "<div>\n",
       "<style scoped>\n",
       "    .dataframe tbody tr th:only-of-type {\n",
       "        vertical-align: middle;\n",
       "    }\n",
       "\n",
       "    .dataframe tbody tr th {\n",
       "        vertical-align: top;\n",
       "    }\n",
       "\n",
       "    .dataframe thead th {\n",
       "        text-align: right;\n",
       "    }\n",
       "</style>\n",
       "<table border=\"1\" class=\"dataframe\">\n",
       "  <thead>\n",
       "    <tr style=\"text-align: right;\">\n",
       "      <th></th>\n",
       "      <th>count</th>\n",
       "      <th>mean</th>\n",
       "      <th>std</th>\n",
       "      <th>min</th>\n",
       "      <th>25%</th>\n",
       "      <th>50%</th>\n",
       "      <th>75%</th>\n",
       "      <th>max</th>\n",
       "    </tr>\n",
       "  </thead>\n",
       "  <tbody>\n",
       "    <tr>\n",
       "      <th>spend</th>\n",
       "      <td>30.0</td>\n",
       "      <td>2571.426085</td>\n",
       "      <td>298.015635</td>\n",
       "      <td>1974.357447</td>\n",
       "      <td>2344.072941</td>\n",
       "      <td>2641.858788</td>\n",
       "      <td>2807.265544</td>\n",
       "      <td>3091.272267</td>\n",
       "    </tr>\n",
       "    <tr>\n",
       "      <th>impressions</th>\n",
       "      <td>30.0</td>\n",
       "      <td>110497.300000</td>\n",
       "      <td>21330.440083</td>\n",
       "      <td>73246.000000</td>\n",
       "      <td>99564.250000</td>\n",
       "      <td>108999.000000</td>\n",
       "      <td>122314.250000</td>\n",
       "      <td>160244.000000</td>\n",
       "    </tr>\n",
       "    <tr>\n",
       "      <th>reach</th>\n",
       "      <td>30.0</td>\n",
       "      <td>88826.833333</td>\n",
       "      <td>21373.019568</td>\n",
       "      <td>53002.000000</td>\n",
       "      <td>71442.000000</td>\n",
       "      <td>86525.500000</td>\n",
       "      <td>104221.000000</td>\n",
       "      <td>137273.000000</td>\n",
       "    </tr>\n",
       "    <tr>\n",
       "      <th>clicks</th>\n",
       "      <td>30.0</td>\n",
       "      <td>4863.866667</td>\n",
       "      <td>1178.616276</td>\n",
       "      <td>3086.000000</td>\n",
       "      <td>3991.250000</td>\n",
       "      <td>4910.000000</td>\n",
       "      <td>5471.000000</td>\n",
       "      <td>8223.000000</td>\n",
       "    </tr>\n",
       "    <tr>\n",
       "      <th>searches</th>\n",
       "      <td>30.0</td>\n",
       "      <td>1862.433333</td>\n",
       "      <td>482.162706</td>\n",
       "      <td>1157.000000</td>\n",
       "      <td>1540.500000</td>\n",
       "      <td>1822.000000</td>\n",
       "      <td>2176.250000</td>\n",
       "      <td>2989.000000</td>\n",
       "    </tr>\n",
       "    <tr>\n",
       "      <th>view_content</th>\n",
       "      <td>30.0</td>\n",
       "      <td>1457.600000</td>\n",
       "      <td>484.110959</td>\n",
       "      <td>817.000000</td>\n",
       "      <td>1145.500000</td>\n",
       "      <td>1321.500000</td>\n",
       "      <td>1720.000000</td>\n",
       "      <td>2949.000000</td>\n",
       "    </tr>\n",
       "    <tr>\n",
       "      <th>add_cart</th>\n",
       "      <td>30.0</td>\n",
       "      <td>885.333333</td>\n",
       "      <td>270.609317</td>\n",
       "      <td>226.000000</td>\n",
       "      <td>687.500000</td>\n",
       "      <td>880.500000</td>\n",
       "      <td>1062.250000</td>\n",
       "      <td>1371.000000</td>\n",
       "    </tr>\n",
       "    <tr>\n",
       "      <th>purchase</th>\n",
       "      <td>30.0</td>\n",
       "      <td>486.066667</td>\n",
       "      <td>125.648643</td>\n",
       "      <td>277.000000</td>\n",
       "      <td>410.000000</td>\n",
       "      <td>472.000000</td>\n",
       "      <td>549.000000</td>\n",
       "      <td>913.000000</td>\n",
       "    </tr>\n",
       "    <tr>\n",
       "      <th>clickth_rate</th>\n",
       "      <td>30.0</td>\n",
       "      <td>0.000439</td>\n",
       "      <td>0.000050</td>\n",
       "      <td>0.000350</td>\n",
       "      <td>0.000398</td>\n",
       "      <td>0.000447</td>\n",
       "      <td>0.000479</td>\n",
       "      <td>0.000532</td>\n",
       "    </tr>\n",
       "    <tr>\n",
       "      <th>cost_act</th>\n",
       "      <td>30.0</td>\n",
       "      <td>5.653522</td>\n",
       "      <td>1.694793</td>\n",
       "      <td>2.558145</td>\n",
       "      <td>4.579471</td>\n",
       "      <td>5.397461</td>\n",
       "      <td>6.564841</td>\n",
       "      <td>9.899805</td>\n",
       "    </tr>\n",
       "    <tr>\n",
       "      <th>con_rate</th>\n",
       "      <td>30.0</td>\n",
       "      <td>0.000999</td>\n",
       "      <td>0.000062</td>\n",
       "      <td>0.000894</td>\n",
       "      <td>0.000954</td>\n",
       "      <td>0.000996</td>\n",
       "      <td>0.001034</td>\n",
       "      <td>0.001113</td>\n",
       "    </tr>\n",
       "  </tbody>\n",
       "</table>\n",
       "</div>"
      ],
      "text/plain": [
       "              count           mean           std           min           25%  \\\n",
       "spend          30.0    2571.426085    298.015635   1974.357447   2344.072941   \n",
       "impressions    30.0  110497.300000  21330.440083  73246.000000  99564.250000   \n",
       "reach          30.0   88826.833333  21373.019568  53002.000000  71442.000000   \n",
       "clicks         30.0    4863.866667   1178.616276   3086.000000   3991.250000   \n",
       "searches       30.0    1862.433333    482.162706   1157.000000   1540.500000   \n",
       "view_content   30.0    1457.600000    484.110959    817.000000   1145.500000   \n",
       "add_cart       30.0     885.333333    270.609317    226.000000    687.500000   \n",
       "purchase       30.0     486.066667    125.648643    277.000000    410.000000   \n",
       "clickth_rate   30.0       0.000439      0.000050      0.000350      0.000398   \n",
       "cost_act       30.0       5.653522      1.694793      2.558145      4.579471   \n",
       "con_rate       30.0       0.000999      0.000062      0.000894      0.000954   \n",
       "\n",
       "                        50%            75%            max  \n",
       "spend           2641.858788    2807.265544    3091.272267  \n",
       "impressions   108999.000000  122314.250000  160244.000000  \n",
       "reach          86525.500000  104221.000000  137273.000000  \n",
       "clicks          4910.000000    5471.000000    8223.000000  \n",
       "searches        1822.000000    2176.250000    2989.000000  \n",
       "view_content    1321.500000    1720.000000    2949.000000  \n",
       "add_cart         880.500000    1062.250000    1371.000000  \n",
       "purchase         472.000000     549.000000     913.000000  \n",
       "clickth_rate       0.000447       0.000479       0.000532  \n",
       "cost_act           5.397461       6.564841       9.899805  \n",
       "con_rate           0.000996       0.001034       0.001113  "
      ]
     },
     "execution_count": 57,
     "metadata": {},
     "output_type": "execute_result"
    }
   ],
   "source": [
    "df_B.describe().T"
   ]
  },
  {
   "cell_type": "code",
   "execution_count": 63,
   "metadata": {},
   "outputs": [
    {
     "data": {
      "image/png": "[encoded data removed]",
      "text/plain": [
       "<Figure size 432x288 with 1 Axes>"
      ]
     },
     "metadata": {
      "needs_background": "light"
     },
     "output_type": "display_data"
    }
   ],
   "source": [
    "sns.boxplot(x = \"camp_name\", y = \"clickth_rate\", data = df);"
   ]
  },
  {
   "cell_type": "code",
   "execution_count": 64,
   "metadata": {},
   "outputs": [
    {
     "data": {
      "image/png": "[encoded data removed]",
      "text/plain": [
       "<Figure size 432x288 with 1 Axes>"
      ]
     },
     "metadata": {
      "needs_background": "light"
     },
     "output_type": "display_data"
    }
   ],
   "source": [
    "sns.boxplot(x = \"camp_name\", y = \"con_rate\", data = df);"
   ]
  },
  {
   "cell_type": "code",
   "execution_count": 36,
   "metadata": {},
   "outputs": [],
   "source": []
  },
  {
   "cell_type": "code",
   "execution_count": 33,
   "metadata": {},
   "outputs": [
    {
     "name": "stdout",
     "output_type": "stream",
     "text": [
      "   purchase\n",
      "0       383\n",
      "1       644\n",
      "2       639\n",
      "3       649\n",
      "4       455\n",
      "   purchase\n",
      "0       913\n",
      "1       510\n",
      "2       391\n",
      "3       434\n",
      "4       492\n"
     ]
    }
   ],
   "source": [
    "print(df_Ax.head())\n",
    "print(df_Bx.head())"
   ]
  },
  {
   "cell_type": "code",
   "execution_count": 38,
   "metadata": {},
   "outputs": [
    {
     "name": "stdout",
     "output_type": "stream",
     "text": [
      "<class 'pandas.core.frame.DataFrame'>\n",
      "RangeIndex: 30 entries, 0 to 29\n",
      "Data columns (total 1 columns):\n",
      " #   Column    Non-Null Count  Dtype  \n",
      "---  ------    --------------  -----  \n",
      " 0   purchase  30 non-null     float64\n",
      "dtypes: float64(1)\n",
      "memory usage: 368.0 bytes\n",
      "None\n",
      "<class 'pandas.core.frame.DataFrame'>\n",
      "Int64Index: 30 entries, 0 to 29\n",
      "Data columns (total 1 columns):\n",
      " #   Column    Non-Null Count  Dtype  \n",
      "---  ------    --------------  -----  \n",
      " 0   purchase  30 non-null     float64\n",
      "dtypes: float64(1)\n",
      "memory usage: 480.0 bytes\n",
      "None\n"
     ]
    }
   ],
   "source": [
    "df_Ax.purchase = df_Ax.purchase.astype('float')\n",
    "df_Bx.purchase = df_Bx.purchase.astype('float')\n",
    "print(df_Bx.info())\n",
    "print(df_Ax.info())"
   ]
  },
  {
   "cell_type": "code",
   "execution_count": null,
   "metadata": {},
   "outputs": [],
   "source": []
  },
  {
   "cell_type": "code",
   "execution_count": null,
   "metadata": {},
   "outputs": [],
   "source": [
    "df_Ax[\"purchase\"].mean()"
   ]
  },
  {
   "cell_type": "code",
   "execution_count": 40,
   "metadata": {},
   "outputs": [
    {
     "data": {
      "text/plain": [
       "486.06666666666666"
      ]
     },
     "execution_count": 40,
     "metadata": {},
     "output_type": "execute_result"
    }
   ],
   "source": [
    "df_Bx[\"purchase\"].mean()"
   ]
  },
  {
   "cell_type": "code",
   "execution_count": 41,
   "metadata": {},
   "outputs": [
    {
     "name": "stdout",
     "output_type": "stream",
     "text": [
      "(30, 1)\n",
      "(30, 1)\n"
     ]
    }
   ],
   "source": [
    "print(df_Ax.shape)\n",
    "print(df_Bx.shape)"
   ]
  },
  {
   "cell_type": "code",
   "execution_count": 42,
   "metadata": {},
   "outputs": [
    {
     "data": {
      "text/html": [
       "<div>\n",
       "<style scoped>\n",
       "    .dataframe tbody tr th:only-of-type {\n",
       "        vertical-align: middle;\n",
       "    }\n",
       "\n",
       "    .dataframe tbody tr th {\n",
       "        vertical-align: top;\n",
       "    }\n",
       "\n",
       "    .dataframe thead th {\n",
       "        text-align: right;\n",
       "    }\n",
       "</style>\n",
       "<table border=\"1\" class=\"dataframe\">\n",
       "  <thead>\n",
       "    <tr style=\"text-align: right;\">\n",
       "      <th></th>\n",
       "      <th>A</th>\n",
       "      <th>B</th>\n",
       "    </tr>\n",
       "  </thead>\n",
       "  <tbody>\n",
       "    <tr>\n",
       "      <th>0</th>\n",
       "      <td>383.0</td>\n",
       "      <td>913.0</td>\n",
       "    </tr>\n",
       "    <tr>\n",
       "      <th>1</th>\n",
       "      <td>644.0</td>\n",
       "      <td>510.0</td>\n",
       "    </tr>\n",
       "    <tr>\n",
       "      <th>2</th>\n",
       "      <td>639.0</td>\n",
       "      <td>391.0</td>\n",
       "    </tr>\n",
       "    <tr>\n",
       "      <th>3</th>\n",
       "      <td>649.0</td>\n",
       "      <td>434.0</td>\n",
       "    </tr>\n",
       "    <tr>\n",
       "      <th>4</th>\n",
       "      <td>455.0</td>\n",
       "      <td>492.0</td>\n",
       "    </tr>\n",
       "  </tbody>\n",
       "</table>\n",
       "</div>"
      ],
      "text/plain": [
       "       A      B\n",
       "0  383.0  913.0\n",
       "1  644.0  510.0\n",
       "2  639.0  391.0\n",
       "3  649.0  434.0\n",
       "4  455.0  492.0"
      ]
     },
     "execution_count": 42,
     "metadata": {},
     "output_type": "execute_result"
    }
   ],
   "source": [
    "df_AB = pd.concat([df_Ax, df_Bx], axis = 1)\n",
    "df_AB.columns = [\"A\",\"B\"]\n",
    "\n",
    "df_AB.head()"
   ]
  },
  {
   "cell_type": "code",
   "execution_count": null,
   "metadata": {},
   "outputs": [],
   "source": []
  },
  {
   "cell_type": "code",
   "execution_count": null,
   "metadata": {},
   "outputs": [],
   "source": [
    "#Normallik varsayimi"
   ]
  },
  {
   "cell_type": "markdown",
   "metadata": {},
   "source": [
    "H0: Normal dağılım varsayımı sağlanmaktadır.\n",
    "\n",
    "H1: .. sağlanmamaktadır."
   ]
  },
  {
   "cell_type": "code",
   "execution_count": 314,
   "metadata": {},
   "outputs": [],
   "source": [
    "from scipy.stats import shapiro"
   ]
  },
  {
   "cell_type": "code",
   "execution_count": 318,
   "metadata": {},
   "outputs": [
    {
     "data": {
      "text/plain": [
       "(0.9882174134254456, 0.9788618683815002)"
      ]
     },
     "execution_count": 318,
     "metadata": {},
     "output_type": "execute_result"
    }
   ],
   "source": [
    "shapiro(df_AB.A)"
   ]
  },
  {
   "cell_type": "code",
   "execution_count": 319,
   "metadata": {},
   "outputs": [
    {
     "data": {
      "text/plain": [
       "(0.9188652038574219, 0.02506561577320099)"
      ]
     },
     "execution_count": 319,
     "metadata": {},
     "output_type": "execute_result"
    }
   ],
   "source": [
    "shapiro(df_AB.B)"
   ]
  },
  {
   "cell_type": "code",
   "execution_count": null,
   "metadata": {},
   "outputs": [],
   "source": []
  },
  {
   "cell_type": "code",
   "execution_count": null,
   "metadata": {},
   "outputs": [],
   "source": [
    "#homojen varsayimi"
   ]
  },
  {
   "cell_type": "markdown",
   "metadata": {},
   "source": [
    "H0: Varyanslar Homojendir\n",
    "\n",
    "H1: Varyanslar Homojen Değildir"
   ]
  },
  {
   "cell_type": "code",
   "execution_count": 324,
   "metadata": {},
   "outputs": [],
   "source": [
    "from scipy.stats import levene\n",
    "import scipy.stats as stats"
   ]
  },
  {
   "cell_type": "code",
   "execution_count": 325,
   "metadata": {},
   "outputs": [
    {
     "data": {
      "text/plain": [
       "LeveneResult(statistic=1.4573242947259228, pvalue=0.23225655710383264)"
      ]
     },
     "execution_count": 325,
     "metadata": {},
     "output_type": "execute_result"
    }
   ],
   "source": [
    "stats.levene(df_AB.A, df_AB.B)"
   ]
  },
  {
   "cell_type": "code",
   "execution_count": null,
   "metadata": {},
   "outputs": [],
   "source": []
  },
  {
   "cell_type": "code",
   "execution_count": null,
   "metadata": {},
   "outputs": [],
   "source": [
    "#Hipotez kurulumu"
   ]
  },
  {
   "cell_type": "code",
   "execution_count": null,
   "metadata": {},
   "outputs": [],
   "source": [
    "H0: M1 = M2 (Eski sistem ile yeni sistem arasinda gelir ortalamasi acisindan istatiski olarak anlamli bir fark yoktur.)\n",
    "\n",
    "H1: M1 != M2 (... vardır)"
   ]
  },
  {
   "cell_type": "code",
   "execution_count": 326,
   "metadata": {},
   "outputs": [
    {
     "data": {
      "text/plain": [
       "Ttest_indResult(statistic=0.6118449178909294, pvalue=0.5430314412386517)"
      ]
     },
     "execution_count": 326,
     "metadata": {},
     "output_type": "execute_result"
    }
   ],
   "source": [
    "stats.ttest_ind(df_AB[\"A\"], df_AB[\"B\"], equal_var = True)"
   ]
  },
  {
   "cell_type": "code",
   "execution_count": 328,
   "metadata": {},
   "outputs": [
    {
     "name": "stdout",
     "output_type": "stream",
     "text": [
      "Test İstatistiği = 0.6118, p-değeri = 0.5430\n"
     ]
    }
   ],
   "source": [
    "test_istatistigi, pvalue = stats.ttest_ind(df_AB[\"A\"], df_AB[\"B\"], equal_var=True)\n",
    "\n",
    "print('Test İstatistiği = %.4f, p-değeri = %.4f' % (test_istatistigi, pvalue))"
   ]
  },
  {
   "cell_type": "code",
   "execution_count": null,
   "metadata": {},
   "outputs": [],
   "source": []
  },
  {
   "cell_type": "code",
   "execution_count": null,
   "metadata": {},
   "outputs": [],
   "source": []
  },
  {
   "cell_type": "markdown",
   "metadata": {},
   "source": [
    "# ANALIZ"
   ]
  },
  {
   "cell_type": "markdown",
   "metadata": {},
   "source": [
    "    İstatistiksel bir test, bir süreç veya süreçler hakkında nicel kararlar vermek için bir mekanizma sağlar. Amaç, süreçle ilgili bir varsayımı veya hipotezi \"reddetmek\" için yeterli kanıt olup olmadığını belirlemektir. \n",
    "    BELIRLEDIGIMIZ HIPOTEZIMIZI REDDETMEK ICIN YETERLI KANIT OLUP OLMADIGINI SORGULAYACAGIZ\n",
    "    \n",
    "   "
   ]
  },
  {
   "cell_type": "markdown",
   "metadata": {},
   "source": [
    "   1. HIPOTEZIMIZ:H0: Eski sistem olan 'maximum bidding' ile yeni sistem olan 'average bidding' arasinda satin alma degerleri acisindan istatiksel olarak anlamli bir fark yoktur.\n",
    "   \n",
    "   "
   ]
  },
  {
   "cell_type": "markdown",
   "metadata": {},
   "source": [
    "   2. Test İstatistiği = 0.6118, p-değeri = 0.5430\n",
    "   \n",
    "   Istatiksel test sonucunda gruplarimizin birbirine benzerligi 0.5430 olarak olculmustur. (Sonucumuz 0,05 den kucuk bir deger olsaydi gruplarimiz arasinda benzerlik yok kararini verecektik) Bu durumda H0 hipotemiz reddedilemez. \n",
    "    H0:Eski sistem olan \"maximum bidding\" ile yeni sistem olan \"average bidding\" arasinda satin alma degerleri acisindan istatiksel olarak anlamli bir fark yoktur.\n",
    "    \n",
    "    "
   ]
  },
  {
   "cell_type": "markdown",
   "metadata": {},
   "source": [
    "   3. Gruplarimiz birbirinden bagimsiz olarak olusturulmustur. Ayni kisiler uzerinde tekrar eden bir test olmadigindan dolayi Bagimsiz Iki Orneklem Testi uygulanmistir\n",
    "   \n",
    "   "
   ]
  },
  {
   "cell_type": "markdown",
   "metadata": {},
   "source": [
    "   4. H0: Eski sistem olan \"maximum bidding\" ile yeni sistem olan \"average bidding\" arasinda satin alma degerleri acisindan istatiksel olarak anlamli bir fark yoktur. \n",
    "   Saglanan bu hipotezimize dayanarak sistem degisikligi sirkete ek bir maliyet olusturacaksa bu maliyete deger bir satis artisi gozlenemediginden dolayi sistem degisikligini tavsiye edemeyiz.\n",
    "   \n",
    "   "
   ]
  },
  {
   "cell_type": "code",
   "execution_count": 67,
   "metadata": {},
   "outputs": [
    {
     "data": {
      "image/png": "[encoded data removed]",
      "text/plain": [
       "<Figure size 432x288 with 1 Axes>"
      ]
     },
     "metadata": {
      "needs_background": "light"
     },
     "output_type": "display_data"
    }
   ],
   "source": [
    "# Reklami goren 100 kisiden kaci icerik icin tiklamistir\n",
    "# Less than 100 people who saw the ad clicked for the content\n",
    "\n",
    "sns.boxplot(x = \"camp_name\", y = \"clickth_rate\", data = df);\n"
   ]
  },
  {
   "cell_type": "code",
   "execution_count": 68,
   "metadata": {},
   "outputs": [
    {
     "data": {
      "image/png": "[encoded data removed]",
      "text/plain": [
       "<Figure size 432x288 with 1 Axes>"
      ]
     },
     "metadata": {
      "needs_background": "light"
     },
     "output_type": "display_data"
    }
   ],
   "source": [
    "#Her bir satin alma islemi ortalama olarak ne kadar kazandirmistir\n",
    "# How much, on average, each purchase has earned\n",
    "sns.boxplot(x = \"camp_name\", y = \"con_rate\", data = df);"
   ]
  },
  {
   "cell_type": "code",
   "execution_count": 69,
   "metadata": {},
   "outputs": [
    {
     "data": {
      "image/png": "[encoded data removed]",
      "text/plain": [
       "<Figure size 432x288 with 1 Axes>"
      ]
     },
     "metadata": {
      "needs_background": "light"
     },
     "output_type": "display_data"
    }
   ],
   "source": [
    "# Web sitesine tiklayan 100 kisiden kaci satin alma islemini gerceklestirmistir \n",
    "\n",
    "# Less than 100 people who clicked on the website have made the purchase\n",
    "sns.boxplot(x = \"camp_name\", y = \"cost_act\", data = df);"
   ]
  },
  {
   "cell_type": "code",
   "execution_count": null,
   "metadata": {},
   "outputs": [],
   "source": []
  }
 ],
 "metadata": {
  "kernelspec": {
   "display_name": "Python 3",
   "language": "python",
   "name": "python3"
  },
  "language_info": {
   "codemirror_mode": {
    "name": "ipython",
    "version": 3
   },
   "file_extension": ".py",
   "mimetype": "text/x-python",
   "name": "python",
   "nbconvert_exporter": "python",
   "pygments_lexer": "ipython3",
   "version": "3.7.6"
  }
 },
 "nbformat": 4,
 "nbformat_minor": 4
}
